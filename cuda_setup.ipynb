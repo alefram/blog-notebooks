{
  "nbformat": 4,
  "nbformat_minor": 0,
  "metadata": {
    "colab": {
      "provenance": [],
      "authorship_tag": "ABX9TyMAuGhm6VTaFjz/CoKpyNHn",
      "include_colab_link": true
    },
    "kernelspec": {
      "name": "python3",
      "display_name": "Python 3"
    },
    "language_info": {
      "name": "python"
    }
  },
  "cells": [
    {
      "cell_type": "markdown",
      "metadata": {
        "id": "view-in-github",
        "colab_type": "text"
      },
      "source": [
        "<a href=\"https://colab.research.google.com/github/alefram/blog-notebooks/blob/main/cuda_setup.ipynb\" target=\"_parent\"><img src=\"https://colab.research.google.com/assets/colab-badge.svg\" alt=\"Open In Colab\"/></a>"
      ]
    },
    {
      "cell_type": "markdown",
      "source": [
        "# CUDA setup for experiment in C++ and Python"
      ],
      "metadata": {
        "id": "5U29w55WVif1"
      }
    },
    {
      "cell_type": "code",
      "source": [],
      "metadata": {
        "id": "rY1OQbgcVsoj"
      },
      "execution_count": null,
      "outputs": []
    }
  ]
}